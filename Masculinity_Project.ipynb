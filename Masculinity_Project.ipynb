{
 "cells": [
  {
   "cell_type": "markdown",
   "metadata": {},
   "source": [
    "# Masculinity Project\n",
    "\n",
    "\n",
    "## Introduction\n",
    "\n",
    "This project analyzes survey data from FiveThirtyEight. FiveThirtyEight is known for using statistical analysis to tell compelling stories about elections, politics, sports, etc. FiveThirtyEight and WNYC studios conducted a survey to get their adult male readers' thoughts on masculinity. The goal of this project is to try to find insights from the survey answers using KMeans algorithm.\n",
    "\n",
    "#### Data sources:\n",
    "\n",
    "The csv file analyzed was provided by Codecademy."
   ]
  },
  {
   "cell_type": "markdown",
   "metadata": {},
   "source": [
    "## Scoping\n",
    "\n",
    "- Investigate Data\n",
    "- Map the Data   \n",
    "- Build the KMeans Model"
   ]
  },
  {
   "cell_type": "markdown",
   "metadata": {},
   "source": [
    "## Import Python Modules"
   ]
  },
  {
   "cell_type": "code",
   "execution_count": 1,
   "metadata": {},
   "outputs": [],
   "source": [
    "import pandas as pd\n",
    "from sklearn.cluster import KMeans\n",
    "import matplotlib.pyplot as plt\n",
    "import seaborn as sns"
   ]
  },
  {
   "cell_type": "markdown",
   "metadata": {},
   "source": [
    "## Investigate Data\n",
    "\n",
    "The `masculinity.csv` file is loaded into `survey_data`. `survey_data` contain answers to survey questions on masculinity, dating/relationships, work place culture, etc. `survey_data` has 98 columns and 1189 rows.\n",
    "\n",
    "\n",
    "In this project, we will focus on question 7 and some of its sub-questions:\n",
    "\n",
    "**How often would you say you do each of the following?** Often, Sometimes, Rarely, Never but open to it, Never and not open to it\n",
    "\n",
    "- Ask a friend for professional advice\n",
    "- Ask a friend for personal advice\n",
    "- Express physical affection to male friends, like hugging, rubbing shoulders \n",
    "- Cry\n",
    "- Get in a physical fight with another person\n",
    "- Watch sports of any kind\n",
    "- See a therapist\n",
    "- Feel lonely or isolated"
   ]
  },
  {
   "cell_type": "code",
   "execution_count": 2,
   "metadata": {},
   "outputs": [],
   "source": [
    "survey_data = pd.read_csv('masculinity.csv')"
   ]
  },
  {
   "cell_type": "code",
   "execution_count": 3,
   "metadata": {},
   "outputs": [],
   "source": [
    "pd.options.display.max_columns = 60\n",
    "pd.options.display.max_colwidth = 500"
   ]
  },
  {
   "cell_type": "code",
   "execution_count": 4,
   "metadata": {},
   "outputs": [
    {
     "data": {
      "text/html": [
       "<div>\n",
       "<style scoped>\n",
       "    .dataframe tbody tr th:only-of-type {\n",
       "        vertical-align: middle;\n",
       "    }\n",
       "\n",
       "    .dataframe tbody tr th {\n",
       "        vertical-align: top;\n",
       "    }\n",
       "\n",
       "    .dataframe thead th {\n",
       "        text-align: right;\n",
       "    }\n",
       "</style>\n",
       "<table border=\"1\" class=\"dataframe\">\n",
       "  <thead>\n",
       "    <tr style=\"text-align: right;\">\n",
       "      <th></th>\n",
       "      <th>Unnamed: 0</th>\n",
       "      <th>StartDate</th>\n",
       "      <th>EndDate</th>\n",
       "      <th>q0001</th>\n",
       "      <th>q0002</th>\n",
       "      <th>q0004_0001</th>\n",
       "      <th>q0004_0002</th>\n",
       "      <th>q0004_0003</th>\n",
       "      <th>q0004_0004</th>\n",
       "      <th>q0004_0005</th>\n",
       "      <th>q0004_0006</th>\n",
       "      <th>q0005</th>\n",
       "      <th>q0007_0001</th>\n",
       "      <th>q0007_0002</th>\n",
       "      <th>q0007_0003</th>\n",
       "      <th>q0007_0004</th>\n",
       "      <th>q0007_0005</th>\n",
       "      <th>q0007_0006</th>\n",
       "      <th>q0007_0007</th>\n",
       "      <th>q0007_0008</th>\n",
       "      <th>q0007_0009</th>\n",
       "      <th>q0007_0010</th>\n",
       "      <th>q0007_0011</th>\n",
       "      <th>q0008_0001</th>\n",
       "      <th>q0008_0002</th>\n",
       "      <th>q0008_0003</th>\n",
       "      <th>q0008_0004</th>\n",
       "      <th>q0008_0005</th>\n",
       "      <th>q0008_0006</th>\n",
       "      <th>q0008_0007</th>\n",
       "      <th>...</th>\n",
       "      <th>q0020_0001</th>\n",
       "      <th>q0020_0002</th>\n",
       "      <th>q0020_0003</th>\n",
       "      <th>q0020_0004</th>\n",
       "      <th>q0020_0005</th>\n",
       "      <th>q0020_0006</th>\n",
       "      <th>q0021_0001</th>\n",
       "      <th>q0021_0002</th>\n",
       "      <th>q0021_0003</th>\n",
       "      <th>q0021_0004</th>\n",
       "      <th>q0022</th>\n",
       "      <th>q0024</th>\n",
       "      <th>q0025_0001</th>\n",
       "      <th>q0025_0002</th>\n",
       "      <th>q0025_0003</th>\n",
       "      <th>q0026</th>\n",
       "      <th>q0028</th>\n",
       "      <th>q0029</th>\n",
       "      <th>q0030</th>\n",
       "      <th>q0034</th>\n",
       "      <th>q0035</th>\n",
       "      <th>q0036</th>\n",
       "      <th>race2</th>\n",
       "      <th>racethn4</th>\n",
       "      <th>educ3</th>\n",
       "      <th>educ4</th>\n",
       "      <th>age3</th>\n",
       "      <th>kids</th>\n",
       "      <th>orientation</th>\n",
       "      <th>weight</th>\n",
       "    </tr>\n",
       "  </thead>\n",
       "  <tbody>\n",
       "    <tr>\n",
       "      <th>0</th>\n",
       "      <td>1</td>\n",
       "      <td>5/10/18 4:01</td>\n",
       "      <td>5/10/18 4:06</td>\n",
       "      <td>Somewhat masculine</td>\n",
       "      <td>Somewhat important</td>\n",
       "      <td>Not selected</td>\n",
       "      <td>Not selected</td>\n",
       "      <td>Not selected</td>\n",
       "      <td>Pop culture</td>\n",
       "      <td>Not selected</td>\n",
       "      <td>Not selected</td>\n",
       "      <td>Yes</td>\n",
       "      <td>Often</td>\n",
       "      <td>Often</td>\n",
       "      <td>Often</td>\n",
       "      <td>Often</td>\n",
       "      <td>Never, and not open to it</td>\n",
       "      <td>Never, and not open to it</td>\n",
       "      <td>Often</td>\n",
       "      <td>Sometimes</td>\n",
       "      <td>Sometimes</td>\n",
       "      <td>Never, and not open to it</td>\n",
       "      <td>Often</td>\n",
       "      <td>Not selected</td>\n",
       "      <td>Not selected</td>\n",
       "      <td>Your hair or hairline</td>\n",
       "      <td>Not selected</td>\n",
       "      <td>Not selected</td>\n",
       "      <td>Not selected</td>\n",
       "      <td>Not selected</td>\n",
       "      <td>...</td>\n",
       "      <td>Read their physical body language to see if they are interested</td>\n",
       "      <td>Ask for a verbal confirmation of consent</td>\n",
       "      <td>Make a physical move to see how they react</td>\n",
       "      <td>Every situation is different</td>\n",
       "      <td>It isn?t always clear how to gauge someone?s interest</td>\n",
       "      <td>Not selected</td>\n",
       "      <td>Not selected</td>\n",
       "      <td>Not selected</td>\n",
       "      <td>Not selected</td>\n",
       "      <td>None of the above</td>\n",
       "      <td>No</td>\n",
       "      <td>Never married</td>\n",
       "      <td>Not selected</td>\n",
       "      <td>Not selected</td>\n",
       "      <td>No children</td>\n",
       "      <td>Gay</td>\n",
       "      <td>Hispanic</td>\n",
       "      <td>College graduate</td>\n",
       "      <td>New York</td>\n",
       "      <td>$0-$9,999</td>\n",
       "      <td>Middle Atlantic</td>\n",
       "      <td>Windows Desktop / Laptop</td>\n",
       "      <td>Non-white</td>\n",
       "      <td>Hispanic</td>\n",
       "      <td>College or more</td>\n",
       "      <td>College or more</td>\n",
       "      <td>35 - 64</td>\n",
       "      <td>No children</td>\n",
       "      <td>Gay/Bisexual</td>\n",
       "      <td>1.714026</td>\n",
       "    </tr>\n",
       "    <tr>\n",
       "      <th>1</th>\n",
       "      <td>2</td>\n",
       "      <td>5/10/18 6:30</td>\n",
       "      <td>5/10/18 6:53</td>\n",
       "      <td>Somewhat masculine</td>\n",
       "      <td>Somewhat important</td>\n",
       "      <td>Father or father figure(s)</td>\n",
       "      <td>Not selected</td>\n",
       "      <td>Not selected</td>\n",
       "      <td>Not selected</td>\n",
       "      <td>Not selected</td>\n",
       "      <td>Not selected</td>\n",
       "      <td>Yes</td>\n",
       "      <td>Rarely</td>\n",
       "      <td>Sometimes</td>\n",
       "      <td>Never, but open to it</td>\n",
       "      <td>Rarely</td>\n",
       "      <td>Never, and not open to it</td>\n",
       "      <td>Rarely</td>\n",
       "      <td>Never, and not open to it</td>\n",
       "      <td>Often</td>\n",
       "      <td>Never, and not open to it</td>\n",
       "      <td>Sometimes</td>\n",
       "      <td>No answer</td>\n",
       "      <td>Not selected</td>\n",
       "      <td>Your weight</td>\n",
       "      <td>Not selected</td>\n",
       "      <td>Not selected</td>\n",
       "      <td>Not selected</td>\n",
       "      <td>Not selected</td>\n",
       "      <td>Not selected</td>\n",
       "      <td>...</td>\n",
       "      <td>Not selected</td>\n",
       "      <td>Not selected</td>\n",
       "      <td>Not selected</td>\n",
       "      <td>Not selected</td>\n",
       "      <td>Not selected</td>\n",
       "      <td>Other (please specify)</td>\n",
       "      <td>Not selected</td>\n",
       "      <td>Not selected</td>\n",
       "      <td>Not selected</td>\n",
       "      <td>None of the above</td>\n",
       "      <td>No</td>\n",
       "      <td>Widowed</td>\n",
       "      <td>Not selected</td>\n",
       "      <td>Yes, one or more children 18 or older</td>\n",
       "      <td>Not selected</td>\n",
       "      <td>Straight</td>\n",
       "      <td>White</td>\n",
       "      <td>Some college</td>\n",
       "      <td>Ohio</td>\n",
       "      <td>$50,000-$74,999</td>\n",
       "      <td>East North Central</td>\n",
       "      <td>iOS Phone / Tablet</td>\n",
       "      <td>White</td>\n",
       "      <td>White</td>\n",
       "      <td>Some college</td>\n",
       "      <td>Some college</td>\n",
       "      <td>65 and up</td>\n",
       "      <td>Has children</td>\n",
       "      <td>Straight</td>\n",
       "      <td>1.247120</td>\n",
       "    </tr>\n",
       "    <tr>\n",
       "      <th>2</th>\n",
       "      <td>3</td>\n",
       "      <td>5/10/18 7:02</td>\n",
       "      <td>5/10/18 7:09</td>\n",
       "      <td>Very masculine</td>\n",
       "      <td>Not too important</td>\n",
       "      <td>Father or father figure(s)</td>\n",
       "      <td>Not selected</td>\n",
       "      <td>Not selected</td>\n",
       "      <td>Not selected</td>\n",
       "      <td>Not selected</td>\n",
       "      <td>Other (please specify)</td>\n",
       "      <td>No</td>\n",
       "      <td>Sometimes</td>\n",
       "      <td>Sometimes</td>\n",
       "      <td>Sometimes</td>\n",
       "      <td>Rarely</td>\n",
       "      <td>Never, but open to it</td>\n",
       "      <td>Often</td>\n",
       "      <td>Never, and not open to it</td>\n",
       "      <td>Rarely</td>\n",
       "      <td>Sometimes</td>\n",
       "      <td>Rarely</td>\n",
       "      <td>Never, and not open to it</td>\n",
       "      <td>Not selected</td>\n",
       "      <td>Not selected</td>\n",
       "      <td>Not selected</td>\n",
       "      <td>Not selected</td>\n",
       "      <td>Not selected</td>\n",
       "      <td>Not selected</td>\n",
       "      <td>Not selected</td>\n",
       "      <td>...</td>\n",
       "      <td>Not selected</td>\n",
       "      <td>Not selected</td>\n",
       "      <td>Not selected</td>\n",
       "      <td>Every situation is different</td>\n",
       "      <td>Not selected</td>\n",
       "      <td>Not selected</td>\n",
       "      <td>Not selected</td>\n",
       "      <td>Not selected</td>\n",
       "      <td>Not selected</td>\n",
       "      <td>None of the above</td>\n",
       "      <td>No</td>\n",
       "      <td>Married</td>\n",
       "      <td>Not selected</td>\n",
       "      <td>Yes, one or more children 18 or older</td>\n",
       "      <td>Not selected</td>\n",
       "      <td>Straight</td>\n",
       "      <td>White</td>\n",
       "      <td>College graduate</td>\n",
       "      <td>Michigan</td>\n",
       "      <td>$50,000-$74,999</td>\n",
       "      <td>East North Central</td>\n",
       "      <td>Windows Desktop / Laptop</td>\n",
       "      <td>White</td>\n",
       "      <td>White</td>\n",
       "      <td>College or more</td>\n",
       "      <td>College or more</td>\n",
       "      <td>35 - 64</td>\n",
       "      <td>Has children</td>\n",
       "      <td>Straight</td>\n",
       "      <td>0.515746</td>\n",
       "    </tr>\n",
       "    <tr>\n",
       "      <th>3</th>\n",
       "      <td>4</td>\n",
       "      <td>5/10/18 7:27</td>\n",
       "      <td>5/10/18 7:31</td>\n",
       "      <td>Very masculine</td>\n",
       "      <td>Not too important</td>\n",
       "      <td>Father or father figure(s)</td>\n",
       "      <td>Mother or mother figure(s)</td>\n",
       "      <td>Other family members</td>\n",
       "      <td>Not selected</td>\n",
       "      <td>Not selected</td>\n",
       "      <td>Not selected</td>\n",
       "      <td>No</td>\n",
       "      <td>Rarely</td>\n",
       "      <td>Rarely</td>\n",
       "      <td>Sometimes</td>\n",
       "      <td>Rarely</td>\n",
       "      <td>Rarely</td>\n",
       "      <td>Often</td>\n",
       "      <td>Never, and not open to it</td>\n",
       "      <td>Never, and not open to it</td>\n",
       "      <td>Rarely</td>\n",
       "      <td>Never, and not open to it</td>\n",
       "      <td>Never, and not open to it</td>\n",
       "      <td>Not selected</td>\n",
       "      <td>Not selected</td>\n",
       "      <td>Not selected</td>\n",
       "      <td>Not selected</td>\n",
       "      <td>Not selected</td>\n",
       "      <td>Not selected</td>\n",
       "      <td>Not selected</td>\n",
       "      <td>...</td>\n",
       "      <td>Not selected</td>\n",
       "      <td>Not selected</td>\n",
       "      <td>Not selected</td>\n",
       "      <td>Not selected</td>\n",
       "      <td>Not selected</td>\n",
       "      <td>Not selected</td>\n",
       "      <td>Not selected</td>\n",
       "      <td>Not selected</td>\n",
       "      <td>Not selected</td>\n",
       "      <td>Not selected</td>\n",
       "      <td>No answer</td>\n",
       "      <td>Married</td>\n",
       "      <td>Not selected</td>\n",
       "      <td>Yes, one or more children 18 or older</td>\n",
       "      <td>Not selected</td>\n",
       "      <td>No answer</td>\n",
       "      <td>White</td>\n",
       "      <td>Some college</td>\n",
       "      <td>Indiana</td>\n",
       "      <td>$50,000-$74,999</td>\n",
       "      <td>East North Central</td>\n",
       "      <td>Windows Desktop / Laptop</td>\n",
       "      <td>White</td>\n",
       "      <td>White</td>\n",
       "      <td>Some college</td>\n",
       "      <td>Some college</td>\n",
       "      <td>65 and up</td>\n",
       "      <td>Has children</td>\n",
       "      <td>No answer</td>\n",
       "      <td>0.600640</td>\n",
       "    </tr>\n",
       "    <tr>\n",
       "      <th>4</th>\n",
       "      <td>5</td>\n",
       "      <td>5/10/18 7:35</td>\n",
       "      <td>5/10/18 7:42</td>\n",
       "      <td>Very masculine</td>\n",
       "      <td>Very important</td>\n",
       "      <td>Not selected</td>\n",
       "      <td>Not selected</td>\n",
       "      <td>Other family members</td>\n",
       "      <td>Not selected</td>\n",
       "      <td>Not selected</td>\n",
       "      <td>Not selected</td>\n",
       "      <td>Yes</td>\n",
       "      <td>Sometimes</td>\n",
       "      <td>Rarely</td>\n",
       "      <td>Never, and not open to it</td>\n",
       "      <td>Never, but open to it</td>\n",
       "      <td>Never, but open to it</td>\n",
       "      <td>Sometimes</td>\n",
       "      <td>Never, and not open to it</td>\n",
       "      <td>Often</td>\n",
       "      <td>Rarely</td>\n",
       "      <td>Never, but open to it</td>\n",
       "      <td>Sometimes</td>\n",
       "      <td>Not selected</td>\n",
       "      <td>Your weight</td>\n",
       "      <td>Not selected</td>\n",
       "      <td>Not selected</td>\n",
       "      <td>Not selected</td>\n",
       "      <td>Not selected</td>\n",
       "      <td>Not selected</td>\n",
       "      <td>...</td>\n",
       "      <td>Not selected</td>\n",
       "      <td>Ask for a verbal confirmation of consent</td>\n",
       "      <td>Not selected</td>\n",
       "      <td>Not selected</td>\n",
       "      <td>Not selected</td>\n",
       "      <td>Not selected</td>\n",
       "      <td>Not selected</td>\n",
       "      <td>Not selected</td>\n",
       "      <td>Not selected</td>\n",
       "      <td>None of the above</td>\n",
       "      <td>No</td>\n",
       "      <td>Never married</td>\n",
       "      <td>Not selected</td>\n",
       "      <td>Not selected</td>\n",
       "      <td>No children</td>\n",
       "      <td>Straight</td>\n",
       "      <td>White</td>\n",
       "      <td>College graduate</td>\n",
       "      <td>Ohio</td>\n",
       "      <td>$50,000-$74,999</td>\n",
       "      <td>East North Central</td>\n",
       "      <td>Windows Desktop / Laptop</td>\n",
       "      <td>White</td>\n",
       "      <td>White</td>\n",
       "      <td>College or more</td>\n",
       "      <td>College or more</td>\n",
       "      <td>35 - 64</td>\n",
       "      <td>No children</td>\n",
       "      <td>Straight</td>\n",
       "      <td>1.033400</td>\n",
       "    </tr>\n",
       "  </tbody>\n",
       "</table>\n",
       "<p>5 rows × 98 columns</p>\n",
       "</div>"
      ],
      "text/plain": [
       "   Unnamed: 0     StartDate       EndDate               q0001  \\\n",
       "0           1  5/10/18 4:01  5/10/18 4:06  Somewhat masculine   \n",
       "1           2  5/10/18 6:30  5/10/18 6:53  Somewhat masculine   \n",
       "2           3  5/10/18 7:02  5/10/18 7:09      Very masculine   \n",
       "3           4  5/10/18 7:27  5/10/18 7:31      Very masculine   \n",
       "4           5  5/10/18 7:35  5/10/18 7:42      Very masculine   \n",
       "\n",
       "                q0002                  q0004_0001                  q0004_0002  \\\n",
       "0  Somewhat important                Not selected                Not selected   \n",
       "1  Somewhat important  Father or father figure(s)                Not selected   \n",
       "2   Not too important  Father or father figure(s)                Not selected   \n",
       "3   Not too important  Father or father figure(s)  Mother or mother figure(s)   \n",
       "4      Very important                Not selected                Not selected   \n",
       "\n",
       "             q0004_0003    q0004_0004    q0004_0005              q0004_0006  \\\n",
       "0          Not selected   Pop culture  Not selected            Not selected   \n",
       "1          Not selected  Not selected  Not selected            Not selected   \n",
       "2          Not selected  Not selected  Not selected  Other (please specify)   \n",
       "3  Other family members  Not selected  Not selected            Not selected   \n",
       "4  Other family members  Not selected  Not selected            Not selected   \n",
       "\n",
       "  q0005 q0007_0001 q0007_0002                 q0007_0003  \\\n",
       "0   Yes      Often      Often                      Often   \n",
       "1   Yes     Rarely  Sometimes      Never, but open to it   \n",
       "2    No  Sometimes  Sometimes                  Sometimes   \n",
       "3    No     Rarely     Rarely                  Sometimes   \n",
       "4   Yes  Sometimes     Rarely  Never, and not open to it   \n",
       "\n",
       "              q0007_0004                 q0007_0005  \\\n",
       "0                  Often  Never, and not open to it   \n",
       "1                 Rarely  Never, and not open to it   \n",
       "2                 Rarely      Never, but open to it   \n",
       "3                 Rarely                     Rarely   \n",
       "4  Never, but open to it      Never, but open to it   \n",
       "\n",
       "                  q0007_0006                 q0007_0007  \\\n",
       "0  Never, and not open to it                      Often   \n",
       "1                     Rarely  Never, and not open to it   \n",
       "2                      Often  Never, and not open to it   \n",
       "3                      Often  Never, and not open to it   \n",
       "4                  Sometimes  Never, and not open to it   \n",
       "\n",
       "                  q0007_0008                 q0007_0009  \\\n",
       "0                  Sometimes                  Sometimes   \n",
       "1                      Often  Never, and not open to it   \n",
       "2                     Rarely                  Sometimes   \n",
       "3  Never, and not open to it                     Rarely   \n",
       "4                      Often                     Rarely   \n",
       "\n",
       "                  q0007_0010                 q0007_0011    q0008_0001  \\\n",
       "0  Never, and not open to it                      Often  Not selected   \n",
       "1                  Sometimes                  No answer  Not selected   \n",
       "2                     Rarely  Never, and not open to it  Not selected   \n",
       "3  Never, and not open to it  Never, and not open to it  Not selected   \n",
       "4      Never, but open to it                  Sometimes  Not selected   \n",
       "\n",
       "     q0008_0002             q0008_0003    q0008_0004    q0008_0005  \\\n",
       "0  Not selected  Your hair or hairline  Not selected  Not selected   \n",
       "1   Your weight           Not selected  Not selected  Not selected   \n",
       "2  Not selected           Not selected  Not selected  Not selected   \n",
       "3  Not selected           Not selected  Not selected  Not selected   \n",
       "4   Your weight           Not selected  Not selected  Not selected   \n",
       "\n",
       "     q0008_0006    q0008_0007  ...  \\\n",
       "0  Not selected  Not selected  ...   \n",
       "1  Not selected  Not selected  ...   \n",
       "2  Not selected  Not selected  ...   \n",
       "3  Not selected  Not selected  ...   \n",
       "4  Not selected  Not selected  ...   \n",
       "\n",
       "                                                        q0020_0001  \\\n",
       "0  Read their physical body language to see if they are interested   \n",
       "1                                                     Not selected   \n",
       "2                                                     Not selected   \n",
       "3                                                     Not selected   \n",
       "4                                                     Not selected   \n",
       "\n",
       "                                 q0020_0002  \\\n",
       "0  Ask for a verbal confirmation of consent   \n",
       "1                              Not selected   \n",
       "2                              Not selected   \n",
       "3                              Not selected   \n",
       "4  Ask for a verbal confirmation of consent   \n",
       "\n",
       "                                   q0020_0003                    q0020_0004  \\\n",
       "0  Make a physical move to see how they react  Every situation is different   \n",
       "1                                Not selected                  Not selected   \n",
       "2                                Not selected  Every situation is different   \n",
       "3                                Not selected                  Not selected   \n",
       "4                                Not selected                  Not selected   \n",
       "\n",
       "                                              q0020_0005  \\\n",
       "0  It isn?t always clear how to gauge someone?s interest   \n",
       "1                                           Not selected   \n",
       "2                                           Not selected   \n",
       "3                                           Not selected   \n",
       "4                                           Not selected   \n",
       "\n",
       "               q0020_0006    q0021_0001    q0021_0002    q0021_0003  \\\n",
       "0            Not selected  Not selected  Not selected  Not selected   \n",
       "1  Other (please specify)  Not selected  Not selected  Not selected   \n",
       "2            Not selected  Not selected  Not selected  Not selected   \n",
       "3            Not selected  Not selected  Not selected  Not selected   \n",
       "4            Not selected  Not selected  Not selected  Not selected   \n",
       "\n",
       "          q0021_0004      q0022          q0024    q0025_0001  \\\n",
       "0  None of the above         No  Never married  Not selected   \n",
       "1  None of the above         No        Widowed  Not selected   \n",
       "2  None of the above         No        Married  Not selected   \n",
       "3       Not selected  No answer        Married  Not selected   \n",
       "4  None of the above         No  Never married  Not selected   \n",
       "\n",
       "                              q0025_0002    q0025_0003      q0026     q0028  \\\n",
       "0                           Not selected   No children        Gay  Hispanic   \n",
       "1  Yes, one or more children 18 or older  Not selected   Straight     White   \n",
       "2  Yes, one or more children 18 or older  Not selected   Straight     White   \n",
       "3  Yes, one or more children 18 or older  Not selected  No answer     White   \n",
       "4                           Not selected   No children   Straight     White   \n",
       "\n",
       "              q0029     q0030            q0034               q0035  \\\n",
       "0  College graduate  New York        $0-$9,999     Middle Atlantic   \n",
       "1      Some college      Ohio  $50,000-$74,999  East North Central   \n",
       "2  College graduate  Michigan  $50,000-$74,999  East North Central   \n",
       "3      Some college   Indiana  $50,000-$74,999  East North Central   \n",
       "4  College graduate      Ohio  $50,000-$74,999  East North Central   \n",
       "\n",
       "                      q0036      race2  racethn4            educ3  \\\n",
       "0  Windows Desktop / Laptop  Non-white  Hispanic  College or more   \n",
       "1        iOS Phone / Tablet      White     White     Some college   \n",
       "2  Windows Desktop / Laptop      White     White  College or more   \n",
       "3  Windows Desktop / Laptop      White     White     Some college   \n",
       "4  Windows Desktop / Laptop      White     White  College or more   \n",
       "\n",
       "             educ4       age3          kids   orientation    weight  \n",
       "0  College or more    35 - 64   No children  Gay/Bisexual  1.714026  \n",
       "1     Some college  65 and up  Has children      Straight  1.247120  \n",
       "2  College or more    35 - 64  Has children      Straight  0.515746  \n",
       "3     Some college  65 and up  Has children     No answer  0.600640  \n",
       "4  College or more    35 - 64   No children      Straight  1.033400  \n",
       "\n",
       "[5 rows x 98 columns]"
      ]
     },
     "execution_count": 4,
     "metadata": {},
     "output_type": "execute_result"
    }
   ],
   "source": [
    "survey_data.head()"
   ]
  },
  {
   "cell_type": "code",
   "execution_count": 5,
   "metadata": {},
   "outputs": [
    {
     "name": "stdout",
     "output_type": "stream",
     "text": [
      "<class 'pandas.core.frame.DataFrame'>\n",
      "RangeIndex: 1189 entries, 0 to 1188\n",
      "Data columns (total 98 columns):\n",
      " #   Column       Non-Null Count  Dtype  \n",
      "---  ------       --------------  -----  \n",
      " 0   Unnamed: 0   1189 non-null   int64  \n",
      " 1   StartDate    1189 non-null   object \n",
      " 2   EndDate      1189 non-null   object \n",
      " 3   q0001        1189 non-null   object \n",
      " 4   q0002        1189 non-null   object \n",
      " 5   q0004_0001   1189 non-null   object \n",
      " 6   q0004_0002   1189 non-null   object \n",
      " 7   q0004_0003   1189 non-null   object \n",
      " 8   q0004_0004   1189 non-null   object \n",
      " 9   q0004_0005   1189 non-null   object \n",
      " 10  q0004_0006   1189 non-null   object \n",
      " 11  q0005        1189 non-null   object \n",
      " 12  q0007_0001   1189 non-null   object \n",
      " 13  q0007_0002   1189 non-null   object \n",
      " 14  q0007_0003   1189 non-null   object \n",
      " 15  q0007_0004   1189 non-null   object \n",
      " 16  q0007_0005   1189 non-null   object \n",
      " 17  q0007_0006   1189 non-null   object \n",
      " 18  q0007_0007   1189 non-null   object \n",
      " 19  q0007_0008   1189 non-null   object \n",
      " 20  q0007_0009   1189 non-null   object \n",
      " 21  q0007_0010   1189 non-null   object \n",
      " 22  q0007_0011   1189 non-null   object \n",
      " 23  q0008_0001   1189 non-null   object \n",
      " 24  q0008_0002   1189 non-null   object \n",
      " 25  q0008_0003   1189 non-null   object \n",
      " 26  q0008_0004   1189 non-null   object \n",
      " 27  q0008_0005   1189 non-null   object \n",
      " 28  q0008_0006   1189 non-null   object \n",
      " 29  q0008_0007   1189 non-null   object \n",
      " 30  q0008_0008   1189 non-null   object \n",
      " 31  q0008_0009   1189 non-null   object \n",
      " 32  q0008_0010   1189 non-null   object \n",
      " 33  q0008_0011   1189 non-null   object \n",
      " 34  q0008_0012   1189 non-null   object \n",
      " 35  q0009        1189 non-null   object \n",
      " 36  q0010_0001   576 non-null    object \n",
      " 37  q0010_0002   576 non-null    object \n",
      " 38  q0010_0003   576 non-null    object \n",
      " 39  q0010_0004   576 non-null    object \n",
      " 40  q0010_0005   576 non-null    object \n",
      " 41  q0010_0006   576 non-null    object \n",
      " 42  q0010_0007   576 non-null    object \n",
      " 43  q0010_0008   576 non-null    object \n",
      " 44  q0011_0001   576 non-null    object \n",
      " 45  q0011_0002   576 non-null    object \n",
      " 46  q0011_0003   576 non-null    object \n",
      " 47  q0011_0004   576 non-null    object \n",
      " 48  q0011_0005   576 non-null    object \n",
      " 49  q0012_0001   576 non-null    object \n",
      " 50  q0012_0002   576 non-null    object \n",
      " 51  q0012_0003   576 non-null    object \n",
      " 52  q0012_0004   576 non-null    object \n",
      " 53  q0012_0005   576 non-null    object \n",
      " 54  q0012_0006   576 non-null    object \n",
      " 55  q0012_0007   576 non-null    object \n",
      " 56  q0013        29 non-null     object \n",
      " 57  q0014        576 non-null    object \n",
      " 58  q0015        485 non-null    object \n",
      " 59  q0017        1189 non-null   object \n",
      " 60  q0018        1189 non-null   object \n",
      " 61  q0019_0001   925 non-null    object \n",
      " 62  q0019_0002   925 non-null    object \n",
      " 63  q0019_0003   925 non-null    object \n",
      " 64  q0019_0004   925 non-null    object \n",
      " 65  q0019_0005   925 non-null    object \n",
      " 66  q0019_0006   925 non-null    object \n",
      " 67  q0019_0007   925 non-null    object \n",
      " 68  q0020_0001   1189 non-null   object \n",
      " 69  q0020_0002   1189 non-null   object \n",
      " 70  q0020_0003   1189 non-null   object \n",
      " 71  q0020_0004   1189 non-null   object \n",
      " 72  q0020_0005   1189 non-null   object \n",
      " 73  q0020_0006   1189 non-null   object \n",
      " 74  q0021_0001   1189 non-null   object \n",
      " 75  q0021_0002   1189 non-null   object \n",
      " 76  q0021_0003   1189 non-null   object \n",
      " 77  q0021_0004   1189 non-null   object \n",
      " 78  q0022        1189 non-null   object \n",
      " 79  q0024        1189 non-null   object \n",
      " 80  q0025_0001   1189 non-null   object \n",
      " 81  q0025_0002   1189 non-null   object \n",
      " 82  q0025_0003   1189 non-null   object \n",
      " 83  q0026        1189 non-null   object \n",
      " 84  q0028        1189 non-null   object \n",
      " 85  q0029        1189 non-null   object \n",
      " 86  q0030        1189 non-null   object \n",
      " 87  q0034        1187 non-null   object \n",
      " 88  q0035        1177 non-null   object \n",
      " 89  q0036        1187 non-null   object \n",
      " 90  race2        1189 non-null   object \n",
      " 91  racethn4     1189 non-null   object \n",
      " 92  educ3        1188 non-null   object \n",
      " 93  educ4        1188 non-null   object \n",
      " 94  age3         1188 non-null   object \n",
      " 95  kids         1183 non-null   object \n",
      " 96  orientation  1188 non-null   object \n",
      " 97  weight       1188 non-null   float64\n",
      "dtypes: float64(1), int64(1), object(96)\n",
      "memory usage: 910.5+ KB\n"
     ]
    }
   ],
   "source": [
    "survey_data.info()"
   ]
  },
  {
   "cell_type": "code",
   "execution_count": 6,
   "metadata": {},
   "outputs": [
    {
     "data": {
      "text/plain": [
       "Sometimes                    537\n",
       "Rarely                       324\n",
       "Often                        142\n",
       "Never, but open to it        123\n",
       "Never, and not open to it     53\n",
       "No answer                     10\n",
       "Name: q0007_0001, dtype: int64"
      ]
     },
     "execution_count": 6,
     "metadata": {},
     "output_type": "execute_result"
    }
   ],
   "source": [
    "survey_data['q0007_0001'].value_counts()"
   ]
  },
  {
   "cell_type": "markdown",
   "metadata": {},
   "source": [
    "## Mapping the Data\n",
    "\n",
    "- Turn question 7 responses into numerical data using `.map()`\n",
    "- Drop rows with null values"
   ]
  },
  {
   "cell_type": "code",
   "execution_count": 7,
   "metadata": {},
   "outputs": [],
   "source": [
    "columns_to_map = [\"q0007_0001\", \"q0007_0002\", \"q0007_0003\", \"q0007_0004\",\n",
    "                  \"q0007_0005\", \"q0007_0008\", \"q0007_0010\", \"q0007_0011\"]"
   ]
  },
  {
   "cell_type": "code",
   "execution_count": 8,
   "metadata": {},
   "outputs": [
    {
     "name": "stdout",
     "output_type": "stream",
     "text": [
      "3.0    537\n",
      "2.0    324\n",
      "4.0    142\n",
      "1.0    123\n",
      "0.0     53\n",
      "Name: q0007_0001, dtype: int64\n"
     ]
    }
   ],
   "source": [
    "for column in columns_to_map:\n",
    "    survey_data[column] = survey_data[column].map({\"Never, and not open to it\": 0, \"Never, but open to it\": 1, \"Rarely\": 2, \"Sometimes\": 3, \"Often\": 4})\n",
    "    \n",
    "print(survey_data['q0007_0001'].value_counts())"
   ]
  },
  {
   "cell_type": "code",
   "execution_count": 9,
   "metadata": {},
   "outputs": [],
   "source": [
    "rows_to_cluster = survey_data.dropna(subset = [\"q0007_0001\", \"q0007_0002\", \"q0007_0003\", \n",
    "                                               \"q0007_0004\", \"q0007_0005\", \"q0007_0008\", \n",
    "                                               \"q0007_0010\", \"q0007_0011\"])"
   ]
  },
  {
   "cell_type": "code",
   "execution_count": 10,
   "metadata": {},
   "outputs": [],
   "source": [
    "data = rows_to_cluster[[\"q0007_0001\", \"q0007_0002\", \"q0007_0003\", \n",
    "                        \"q0007_0004\", \"q0007_0005\", \"q0007_0008\", \n",
    "                        \"q0007_0010\", \"q0007_0011\"]]"
   ]
  },
  {
   "cell_type": "markdown",
   "metadata": {},
   "source": [
    "## Build the KMeans Model\n",
    "\n",
    "- A KMeans algorithm (2 clusters): inertia is ~7885\n",
    "- Can we achieve tighter clusters?"
   ]
  },
  {
   "cell_type": "code",
   "execution_count": 11,
   "metadata": {},
   "outputs": [
    {
     "data": {
      "text/plain": [
       "KMeans(n_clusters=2)"
      ]
     },
     "execution_count": 11,
     "metadata": {},
     "output_type": "execute_result"
    }
   ],
   "source": [
    "classifier = KMeans(init='k-means++', n_clusters = 2)\n",
    "classifier.fit(data)"
   ]
  },
  {
   "cell_type": "code",
   "execution_count": 12,
   "metadata": {},
   "outputs": [
    {
     "data": {
      "text/plain": [
       "array([[2.84302326, 2.82267442, 2.7877907 , 2.4505814 , 0.70639535,\n",
       "        2.93604651, 1.5494186 , 2.43023256],\n",
       "       [1.904     , 1.84533333, 0.97066667, 1.60266667, 0.53866667,\n",
       "        2.872     , 0.53333333, 1.54666667]])"
      ]
     },
     "execution_count": 12,
     "metadata": {},
     "output_type": "execute_result"
    }
   ],
   "source": [
    "classifier.cluster_centers_"
   ]
  },
  {
   "cell_type": "code",
   "execution_count": 13,
   "metadata": {},
   "outputs": [
    {
     "data": {
      "text/plain": [
       "array([0, 0, 1, ..., 0, 1, 1], dtype=int32)"
      ]
     },
     "execution_count": 13,
     "metadata": {},
     "output_type": "execute_result"
    }
   ],
   "source": [
    "classifier.labels_"
   ]
  },
  {
   "cell_type": "code",
   "execution_count": 14,
   "metadata": {},
   "outputs": [
    {
     "data": {
      "text/plain": [
       "7884.958837209303"
      ]
     },
     "execution_count": 14,
     "metadata": {},
     "output_type": "execute_result"
    }
   ],
   "source": [
    "classifier.inertia_"
   ]
  },
  {
   "cell_type": "markdown",
   "metadata": {},
   "source": [
    "##### Separate the Cluster Members"
   ]
  },
  {
   "cell_type": "code",
   "execution_count": 15,
   "metadata": {},
   "outputs": [],
   "source": [
    "cluster_zero_indices = []\n",
    "cluster_one_indices = []\n",
    "\n",
    "for i in range(len(classifier.labels_)):\n",
    "    if classifier.labels_[i] == 0:\n",
    "        cluster_zero_indices.append(i)\n",
    "    elif classifier.labels_[i] == 1:\n",
    "        cluster_one_indices.append(i)"
   ]
  },
  {
   "cell_type": "code",
   "execution_count": 16,
   "metadata": {},
   "outputs": [],
   "source": [
    "cluster_zero_df = rows_to_cluster.iloc[cluster_zero_indices]\n",
    "cluster_one_df = rows_to_cluster.iloc[cluster_one_indices]"
   ]
  },
  {
   "cell_type": "markdown",
   "metadata": {},
   "source": [
    "##### Investigate the Cluster Members"
   ]
  },
  {
   "cell_type": "code",
   "execution_count": 17,
   "metadata": {},
   "outputs": [
    {
     "name": "stdout",
     "output_type": "stream",
     "text": [
      "Post graduate degree    0.357558\n",
      "College or more         0.311047\n",
      "Some college            0.241279\n",
      "High school or less     0.090116\n",
      "Name: educ4, dtype: float64\n"
     ]
    }
   ],
   "source": [
    "print(cluster_zero_df['educ4'].value_counts()/len(cluster_zero_df))"
   ]
  },
  {
   "cell_type": "code",
   "execution_count": 18,
   "metadata": {},
   "outputs": [
    {
     "name": "stdout",
     "output_type": "stream",
     "text": [
      "College or more         0.320000\n",
      "Some college            0.288000\n",
      "Post graduate degree    0.272000\n",
      "High school or less     0.117333\n",
      "Name: educ4, dtype: float64\n"
     ]
    }
   ],
   "source": [
    "print(cluster_one_df['educ4'].value_counts()/len(cluster_one_df))"
   ]
  },
  {
   "cell_type": "markdown",
   "metadata": {},
   "source": [
    "### Finding our best n_clusters: the lowest inertia with the least number of clusters\n",
    "\n",
    "- our 'elbow point' seem to be 3: inertia of about 7062"
   ]
  },
  {
   "cell_type": "code",
   "execution_count": 19,
   "metadata": {},
   "outputs": [],
   "source": [
    "num_clusters = list(range(1, 12))\n",
    "inertias = []\n",
    "\n",
    "for k in num_clusters:\n",
    "  model = KMeans(init='k-means++', n_clusters=k)\n",
    "  model.fit(data)\n",
    "  inertias.append(model.inertia_)"
   ]
  },
  {
   "cell_type": "code",
   "execution_count": 20,
   "metadata": {},
   "outputs": [
    {
     "data": {
      "image/png": "[encoded data removed]",
      "text/plain": [
       "<Figure size 640x480 with 1 Axes>"
      ]
     },
     "metadata": {},
     "output_type": "display_data"
    }
   ],
   "source": [
    "plt.plot(num_clusters, inertias, '-o')\n",
    "plt.xlabel('number of clusters (k)')\n",
    "plt.ylabel('inertia')\n",
    "plt.show()"
   ]
  },
  {
   "cell_type": "code",
   "execution_count": 21,
   "metadata": {},
   "outputs": [
    {
     "data": {
      "text/plain": [
       "KMeans(n_clusters=3)"
      ]
     },
     "execution_count": 21,
     "metadata": {},
     "output_type": "execute_result"
    }
   ],
   "source": [
    "classifier2 = KMeans(init='k-means++', n_clusters = 3)\n",
    "classifier2.fit(data)"
   ]
  },
  {
   "cell_type": "code",
   "execution_count": 22,
   "metadata": {},
   "outputs": [
    {
     "data": {
      "text/plain": [
       "array([[1.78776978, 1.72661871, 0.53597122, 1.54316547, 0.50359712,\n",
       "        2.70503597, 0.57194245, 1.68705036],\n",
       "       [2.88737201, 2.92491468, 2.51535836, 2.55290102, 0.66211604,\n",
       "        2.3447099 , 2.40273038, 2.95221843],\n",
       "       [2.69715447, 2.63617886, 2.83739837, 2.25609756, 0.7195122 ,\n",
       "        3.3699187 , 0.81910569, 1.86585366]])"
      ]
     },
     "execution_count": 22,
     "metadata": {},
     "output_type": "execute_result"
    }
   ],
   "source": [
    "classifier2.cluster_centers_"
   ]
  },
  {
   "cell_type": "code",
   "execution_count": 23,
   "metadata": {},
   "outputs": [
    {
     "data": {
      "text/plain": [
       "7062.232597948683"
      ]
     },
     "execution_count": 23,
     "metadata": {},
     "output_type": "execute_result"
    }
   ],
   "source": [
    "classifier2.inertia_"
   ]
  },
  {
   "cell_type": "code",
   "execution_count": 24,
   "metadata": {},
   "outputs": [
    {
     "data": {
      "text/plain": [
       "array([2, 2, 2, ..., 1, 0, 0], dtype=int32)"
      ]
     },
     "execution_count": 24,
     "metadata": {},
     "output_type": "execute_result"
    }
   ],
   "source": [
    "classifier2.labels_"
   ]
  },
  {
   "cell_type": "code",
   "execution_count": 25,
   "metadata": {},
   "outputs": [],
   "source": [
    "cluster_zero_indices = []\n",
    "cluster_one_indices = []\n",
    "cluster_two_indices = []\n",
    "\n",
    "for i in range(len(classifier2.labels_)):\n",
    "    if classifier2.labels_[i] == 0:\n",
    "        cluster_zero_indices.append(i)\n",
    "    elif classifier2.labels_[i] == 1:\n",
    "        cluster_one_indices.append(i)\n",
    "    elif classifier2.labels_[i] == 2:\n",
    "        cluster_two_indices.append(i)"
   ]
  },
  {
   "cell_type": "code",
   "execution_count": 26,
   "metadata": {},
   "outputs": [],
   "source": [
    "cluster_zero_df = rows_to_cluster.iloc[cluster_zero_indices]\n",
    "cluster_one_df = rows_to_cluster.iloc[cluster_one_indices]\n",
    "cluster_two_df = rows_to_cluster.iloc[cluster_two_indices]"
   ]
  },
  {
   "cell_type": "code",
   "execution_count": 27,
   "metadata": {},
   "outputs": [
    {
     "name": "stdout",
     "output_type": "stream",
     "text": [
      "College or more         0.294964\n",
      "Some college            0.287770\n",
      "Post graduate degree    0.269784\n",
      "High school or less     0.143885\n",
      "Name: educ4, dtype: float64\n"
     ]
    }
   ],
   "source": [
    "print(cluster_zero_df['educ4'].value_counts()/len(cluster_zero_df))"
   ]
  },
  {
   "cell_type": "code",
   "execution_count": 28,
   "metadata": {},
   "outputs": [
    {
     "name": "stdout",
     "output_type": "stream",
     "text": [
      "Post graduate degree    0.367347\n",
      "College or more         0.268707\n",
      "Some college            0.265306\n",
      "High school or less     0.098639\n",
      "Name: educ4, dtype: float64\n"
     ]
    }
   ],
   "source": [
    "print(cluster_one_df['educ4'].value_counts()/len(cluster_one_df))"
   ]
  },
  {
   "cell_type": "code",
   "execution_count": 29,
   "metadata": {},
   "outputs": [
    {
     "name": "stdout",
     "output_type": "stream",
     "text": [
      "College or more         0.352342\n",
      "Post graduate degree    0.336049\n",
      "Some college            0.236253\n",
      "High school or less     0.075356\n",
      "Name: educ4, dtype: float64\n"
     ]
    }
   ],
   "source": [
    "print(cluster_two_df['educ4'].value_counts()/len(cluster_two_df))"
   ]
  },
  {
   "cell_type": "markdown",
   "metadata": {},
   "source": [
    "**Both KMeans algorithms show that respondents' answers to question 7 seem to be divided by their level of education and do not necessarily fall into 'feminine' or 'masculine' category.**"
   ]
  },
  {
   "cell_type": "markdown",
   "metadata": {
    "scrolled": true
   },
   "source": [
    "### New Data - Mr K's responses to question 7"
   ]
  },
  {
   "cell_type": "code",
   "execution_count": 30,
   "metadata": {},
   "outputs": [],
   "source": [
    "Mr_K = [[4, 3, 0, 3, 2, 3, 3, 3]]"
   ]
  },
  {
   "cell_type": "code",
   "execution_count": 31,
   "metadata": {},
   "outputs": [
    {
     "name": "stderr",
     "output_type": "stream",
     "text": [
      "/Users/amoke/opt/anaconda3/lib/python3.9/site-packages/sklearn/base.py:450: UserWarning: X does not have valid feature names, but KMeans was fitted with feature names\n",
      "  warnings.warn(\n"
     ]
    },
    {
     "data": {
      "text/plain": [
       "array([0], dtype=int32)"
      ]
     },
     "execution_count": 31,
     "metadata": {},
     "output_type": "execute_result"
    }
   ],
   "source": [
    "classifier.predict(Mr_K)"
   ]
  }
 ],
 "metadata": {
  "kernelspec": {
   "display_name": "Python 3 (ipykernel)",
   "language": "python",
   "name": "python3"
  },
  "language_info": {
   "codemirror_mode": {
    "name": "ipython",
    "version": 3
   },
   "file_extension": ".py",
   "mimetype": "text/x-python",
   "name": "python",
   "nbconvert_exporter": "python",
   "pygments_lexer": "ipython3",
   "version": "3.9.13"
  }
 },
 "nbformat": 4,
 "nbformat_minor": 2
}
